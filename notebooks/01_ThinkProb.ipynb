{
 "cells": [
  {
   "cell_type": "markdown",
   "metadata": {},
   "source": [
    "# Bayesian Modeling for Environmental Data\n",
    "\n",
    "Bayesian Statistical Methods for Scientists and Engineers"
   ]
  },
  {
   "cell_type": "markdown",
   "metadata": {},
   "source": [
    "# Chapter 1 Thinking Probabilistically"
   ]
  },
  {
   "cell_type": "markdown",
   "metadata": {},
   "source": [
    "## Uncertainty in Environmental Analysis\n",
    "Understanding uncertainty is a key component of environmental science.  Repeated chemical measurements can vary by an order of magnitude.  Environmental conditions vary in space and in time.  Soil is heterogeous.  Storms and flooding constantly change environmental conditions.  Geochemical reactions are nonlinear.  Phase transitions occur.  Laboratory procedures are accurate to within a margin of error.  Left-censored (i.e., non-detect) data are common.  \n",
    "\n",
    "Environmental scientists are intimately aware of the uncertainties that confront them, however, uncertainties are not evaluated or communicated in a common way.  Uncertainties may be handled by sensitivity analyses, qualitative caveats, or rounding.  Confidence intervals are presented for simple analyses (e.g., univariate distributions), but not for more complicated calculations.  \"Multiple lines of evidence\" are often evaluated to reduce uncertainty, but these lines of evidence are usually considered separately rather than in a common model.    \n",
    "\n",
    "Bayesian computation offers a way to coherently estimate uncertainty in environmental modeling and statistics, by composing with probabilities.  Moreover, while sophisticated mathematics and algorithms are needed to fit Bayesian models, most of these details are not needed for the average scientist.  The main requirement is the ability to think probabilistically."
   ]
  },
  {
   "cell_type": "markdown",
   "metadata": {},
   "source": [
    "## Thinking Probabilistically"
   ]
  },
  {
   "cell_type": "markdown",
   "metadata": {},
   "source": [
    "Outline:  \n",
    "1. Thinking probabilistically means that every value in a model can be considered a probability distribution.  \n",
    "2. A probability distribution is a distribution of all potential outcomes and the probability of each. \n",
    "    2.1  For example. . . \n",
    "3. \n",
    "\n",
    "Probabilistic programming languages "
   ]
  },
  {
   "cell_type": "code",
   "execution_count": null,
   "metadata": {
    "vscode": {
     "languageId": "plaintext"
    }
   },
   "outputs": [],
   "source": []
  },
  {
   "cell_type": "code",
   "execution_count": null,
   "metadata": {
    "vscode": {
     "languageId": "plaintext"
    }
   },
   "outputs": [],
   "source": []
  },
  {
   "cell_type": "markdown",
   "metadata": {},
   "source": [
    "\n",
    "\n",
    "\n",
    "\n",
    "\n",
    "  Model parameters are begin and end as probability distributions.  Therefore, model fitting and uncertainty analyses are performed in the same step. Uncertainty is calibrated to both prior information and the quantity of data.  Intractable uncertainty estimates are simple to calculate.  Step-wise analyses can be performed in a single step. \n",
    "\n",
    "The premise of this book is that Bayesian modeling is a natural fit for environmental scientists for modeling, analysis, and statistical inference.  \n",
    "1. Coherent estimation of uncertainties.\n",
    "2. Intuitive and flexible framework to meet problem-specific needs.   \n",
    "3. Transparent way to imbed scientific knowledge within analyses.\n",
    "4. Maximize the information that can be gained from limited and censored data. "
   ]
  },
  {
   "cell_type": "code",
   "execution_count": null,
   "metadata": {
    "vscode": {
     "languageId": "plaintext"
    }
   },
   "outputs": [],
   "source": []
  },
  {
   "cell_type": "code",
   "execution_count": null,
   "metadata": {
    "vscode": {
     "languageId": "plaintext"
    }
   },
   "outputs": [],
   "source": []
  },
  {
   "cell_type": "code",
   "execution_count": null,
   "metadata": {
    "vscode": {
     "languageId": "plaintext"
    }
   },
   "outputs": [],
   "source": []
  },
  {
   "cell_type": "markdown",
   "metadata": {},
   "source": [
    "## Bayesian Statistics from a Modeling Perspective\n",
    "This section provides a high level description of Bayesian statistics from a physical modeling perspective.  At it's core, Bayes' rule allows the researcher to estimate unmeasured parameters from measured data.  Bayes' rule leverages the fact that the probability of the model parameters, given the data, is proportional to the probability of the data given the model parameters.   \n",
    "\n",
    "$$\n",
    "Pr(\\theta | y) \\propto {Pr(y | \\theta) Pr(\\theta)}\n",
    "$$"
   ]
  },
  {
   "cell_type": "markdown",
   "metadata": {},
   "source": [
    "$Pr(\\theta | y)$ is the probability of the model parameters $\\theta$ given the observed data $y$.  $Pr(y | \\theta)$ is the probability of the data $y$ given the unmeasured parameters $\\theta$ (the likelihood), and $Pr(\\theta)$ is the starting probability of the unmeasured parameters (the prior).  \n",
    "\n"
   ]
  },
  {
   "cell_type": "markdown",
   "metadata": {},
   "source": [
    "Put another way, consider a generative model with $\\theta$ as inputs and $y$ as outputs.   \n",
    "$$\\theta \\to Model \\to y$$\n",
    "Bayesian inference is a way to infer the probability of $\\theta$ given the data $y$ using the model.  It is relatively simple to adapt any analytical (i.e., equation-based) model for a Bayesian inference engine.  The Bayesian inference engine also requires the specification of prior probability distributions for $\\theta$, and the specification of a likelihood function for $y$ to perform inference, as will be demonstrated in the examples.  "
   ]
  }
 ],
 "metadata": {
  "interpreter": {
   "hash": "050b6b8ad2ea74279c1395cc9fbf59d637989e80f123218f16d2a67f3fc94918"
  },
  "kernelspec": {
   "display_name": "Python 3.9.7 64-bit ('pymc': conda)",
   "language": "python",
   "name": "python3"
  },
  "language_info": {
   "codemirror_mode": {
    "name": "ipython",
    "version": 3
   },
   "file_extension": ".py",
   "mimetype": "text/x-python",
   "name": "python",
   "nbconvert_exporter": "python",
   "pygments_lexer": "ipython3",
   "version": "3.9.7"
  },
  "orig_nbformat": 4
 },
 "nbformat": 4,
 "nbformat_minor": 2
}
