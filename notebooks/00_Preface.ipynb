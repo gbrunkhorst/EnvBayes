{
 "cells": [
  {
   "cell_type": "markdown",
   "metadata": {},
   "source": [
    "# Bayesian Modeling for Environmental Data\n",
    "\n",
    "Bayesian Statistical Methods for Scientists and Engineers"
   ]
  },
  {
   "cell_type": "markdown",
   "metadata": {},
   "source": [
    "\n",
    "# Preface "
   ]
  },
  {
   "cell_type": "markdown",
   "metadata": {},
   "source": [
    "## There Must be Better Way!"
   ]
  },
  {
   "cell_type": "markdown",
   "metadata": {},
   "source": [
    "I come to this book as a wayward environmental engineer and consultant in the environmental cleanup industry.  I have not set out to write a book on Bayesian statistics.  I have set out show people in my industry a different way of solving problems in modeling and statistics.  I hope that this book brings environmental science and statistics closer together."
   ]
  },
  {
   "cell_type": "markdown",
   "metadata": {},
   "source": [
    "This book is a reaction to my training as an undergraduate engineering student in the 1990's and two decades of work in the environmental consulting industry.  As engineers, we are trained to calculate exact values using causal models, often built from first principles.  We calculate forces, flows, and reactions by working out well-understood physical and chemical equations.  We calculate and predict costs from best-estimates.  In industry, however, we are confronted with a whole lot of messiness and uncertainty.  Data do not come in clean packages and frequently contradict themselves.  Cost estimates change with the business cycle.  Environmental models are often only accurate to within an order of magnitude.  Confronted with this uncertainty, we run models repeatedly, fine-tuning model inputs and outputs to gain an understanding of potential uncertainties.  While working within this ad-hoc approach, I thought there had to be a better way.  "
   ]
  },
  {
   "cell_type": "markdown",
   "metadata": {},
   "source": [
    "Meanwhile, an interest in statistics led me toward more statistical work. Frequentist statistical analyses based on regulatory guidance were confusing, often disembodied from the scientific question at hand, and littered with full of rules of thumb and huristics.  Frequentist statistical methods did not seem to arrive at objective answers, rather, series of subjective decisions would be applied in a ad-hoc fashion.  Again, while sorting throught these methods, I wondered if there was a better way.  "
   ]
  },
  {
   "cell_type": "markdown",
   "metadata": {},
   "source": [
    "## Enter Bayes' Rule"
   ]
  },
  {
   "cell_type": "markdown",
   "metadata": {},
   "source": [
    "At some point I started learning the probabilistic programming language Pymc.  At first, I was confused.  Why is it taking so long to do a linear regression?  Why all this funny syntax to do something simple?  Why so many fuzzy caterpillars (you will understand this reference later in the book)?  But after working some examples, the light bulb finally went off in my head.  Bayesian statistics were the answer to both quandries at once.  It offered a coherent way to estimate uncertainties for a wide variety of problems.    "
   ]
  },
  {
   "cell_type": "markdown",
   "metadata": {},
   "source": [
    "The example that marked this change in thinking is the canonical golf putting analysis from Gelman et. al., xxxx [e.g., https://docs.pymc.io/en/v3/pymc-examples/examples/case_studies/putting_workflow.html].  In this example, golf putting data are analyzed based on the percent made by distance from the hole.  Simple enough.  The statistical form of this question is a logistic regression.  However, the logistical regression curve does not fit the data well at all.  So they used their understanding of golf, which was limited to some very basic facts about the size of the ball and the size of the hole, and developed a simple causal model of a golf shot based only on the angle of the putter head, the size of the ball, and the size of the hole.  As a result, the simple model fit the data almost perfectly!\n",
    "\n",
    "In the example, a simple understanding of the physical world, combined with Bayesian statistical framework, produced a tailored statistical analysis with accurate quantification of uncertainty, and using all the knowledge at hand.  With this book, I aim to demonstrate this powerful trick for environmental data analysis.  A central assumption of this book is that Bayesian statistics have the the potential to simplify many current analyses.  "
   ]
  },
  {
   "cell_type": "markdown",
   "metadata": {},
   "source": [
    "## Computing in Python"
   ]
  },
  {
   "cell_type": "markdown",
   "metadata": {},
   "source": [
    "This book takes the approach that anyone can learn to program in Python.  If you can program in Excel and solve math equations on pen and paper, then you can easily learn the basics of programming.  There are many resources to get you started and the investment will be worth it.  To that end, this book does not introduce Python.  You are on your own to get started (it may take some time, but you can do it).  \n",
    "\n",
    "One note on the Bayesian workflow.  Bayesian models take a long time to fit compared to traditional statistics or (shallow) machine learning.  A simple linear regression model will take a couple of minutes to compile and fit, and more complicated analyses can take up to an hour.  Before getting impatient, I suggest lining up something else to do while the model is fitting, such as working on the code for plotting, or tapping out a quick email.  That work flow has worked for me.  "
   ]
  },
  {
   "cell_type": "markdown",
   "metadata": {},
   "source": [
    "## Who this Book is For \n",
    "My target audience for this book are environmental scientists and engineers with basic coding skills.  This is not targeted at statisticians."
   ]
  },
  {
   "cell_type": "markdown",
   "metadata": {},
   "source": []
  }
 ],
 "metadata": {
  "interpreter": {
   "hash": "050b6b8ad2ea74279c1395cc9fbf59d637989e80f123218f16d2a67f3fc94918"
  },
  "kernelspec": {
   "display_name": "Python 3.9.7 64-bit ('pymc': conda)",
   "language": "python",
   "name": "python3"
  },
  "language_info": {
   "codemirror_mode": {
    "name": "ipython",
    "version": 3
   },
   "file_extension": ".py",
   "mimetype": "text/x-python",
   "name": "python",
   "nbconvert_exporter": "python",
   "pygments_lexer": "ipython3",
   "version": "3.9.7"
  },
  "orig_nbformat": 4
 },
 "nbformat": 4,
 "nbformat_minor": 2
}
